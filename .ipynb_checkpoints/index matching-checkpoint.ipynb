{
 "cells": [
  {
   "cell_type": "code",
   "execution_count": 2,
   "metadata": {},
   "outputs": [],
   "source": [
    "import numpy as np\n",
    "import pandas as pd\n",
    "import material as ml\n",
    "import thinfilm as tm\n",
    "import matplotlib.pyplot as plt\n",
    "from scipy.optimize import differential_evolution\n",
    "\n",
    "# material import \n",
    "air = ml.Non_Dispersion(1)\n",
    "OC = ml.Cauchy([1.51082517, 5.69129102e-03], 9.70850610e-04)\n",
    "SiN = ml.Cauchy([1.85001015, 3.50497748e-03], 4.50757521e-04)\n",
    "SiO2 = ml.Cauchy([1.48878307, 1.44759349e-03], 8.82534146e-04)\n",
    "ITO = ml.Cauchy([1.68689504, 5.38710310e-02], 8.33721475e-03)\n",
    "sub = ml.Cauchy([1.52990893, 1.48423855e-03])\n",
    "\n",
    "# set wavelength\n",
    "wl = np.linspace(400,700,301)\n",
    "\n",
    "# construct model\n",
    "R_bri_hypo = lambda th: tm.Design(\n",
    "    [air, OC, SiN, SiO2, ITO, OC, ITO, SiO2, SiN, sub],\n",
    "    [None, th[0], th[1], th[2], th[3], th[4], th[5], th[6], th[7], None]\n",
    ").reflectance(wl, 5)\n",
    "\n",
    "R_dia_hypo = lambda th: tm.Design(\n",
    "    [air, OC, SiN, SiO2, ITO, SiO2, SiN, sub],\n",
    "    [None, th[0], th[1], th[2], th[3], th[6], th[7], None]\n",
    ").reflectance(wl, 5)\n",
    "\n",
    "R_tra_hypo = lambda th: tm.Design(\n",
    "    [air, OC, SiN, SiO2, SiO2, SiN, sub],\n",
    "    [None, th[0], th[1], th[2], th[6], th[7], None]\n",
    ").reflectance(wl, 5)\n",
    "\n",
    "# set figure of merit\n",
    "R_ITO = lambda th: np.mean(R_dia_hypo(th))\n",
    "delta_d_b = lambda th: np.mean(abs(R_bri_hypo(th)-R_dia_hypo(th)))\n",
    "delta_d_t = lambda th: np.mean(abs(R_tra_hypo(th)-R_dia_hypo(th)))\n",
    "#delta_b_t = lambda th: np.mean(abs(R_bri_hypo(th)-R_tra_hypo(th)))\n",
    "w1 = 1 # weight\n",
    "w2 = 1 #\n",
    "fom = lambda th:(w1*delta_d_b(th)+w2*delta_d_t(th))/R_ITO(th)"
   ]
  }
 ],
 "metadata": {
  "kernelspec": {
   "display_name": "Python 3",
   "language": "python",
   "name": "python3"
  },
  "language_info": {
   "codemirror_mode": {
    "name": "ipython",
    "version": 3
   },
   "file_extension": ".py",
   "mimetype": "text/x-python",
   "name": "python",
   "nbconvert_exporter": "python",
   "pygments_lexer": "ipython3",
   "version": "3.8.2"
  }
 },
 "nbformat": 4,
 "nbformat_minor": 4
}
